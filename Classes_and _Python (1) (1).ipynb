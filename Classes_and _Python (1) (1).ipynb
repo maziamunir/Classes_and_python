{
 "cells": [
  {
   "cell_type": "markdown",
   "id": "81a365e3",
   "metadata": {},
   "source": [
    "# Classes in Python: A Comprehensive Guide\n",
    "\n",
    "## Introduction\n",
    "### In Python, classes are a fundamental building block for object-oriented programming (OOP). OOP is a programming paradigm that uses objects and classes to model real-world scenarios. They allow you to create user-defined data structures that encapsulate both data (attributes) and behavior (methods). This encapsulation promotes code reusability, modularity, and maintainability."
   ]
  },
  {
   "cell_type": "markdown",
   "id": "0a0d6649",
   "metadata": {},
   "source": [
    "## Key Concepts\n",
    "### Class: A blueprint for creating objects. It defines the attributes and methods that objects of that class will possess.\n",
    "### Object: An instance of a class. It has its own unique set of attribute values.\n",
    "### Attributes: Variables that store data associated with an object.\n",
    "### Methods: Functions that operate on the object's data.\n",
    "### Constructor: A special method called __init__ that is automatically invoked when an object is created. It initializes the object's attributes.\n",
    "## Creating a Class and Object"
   ]
  },
  {
   "cell_type": "code",
   "execution_count": 1,
   "id": "0239378a",
   "metadata": {},
   "outputs": [
    {
     "name": "stdout",
     "output_type": "stream",
     "text": [
      "Buddy\n",
      "Buddy barks!\n"
     ]
    }
   ],
   "source": [
    "class Dog:\n",
    "    def __init__(self, name, breed):\n",
    "        self.name = name\n",
    "        self.breed = breed\n",
    "\n",
    "    def bark(self):\n",
    "        print(f\"{self.name} barks!\")\n",
    "\n",
    "# Create an object of the Dog class\n",
    "my_dog = Dog(\"Buddy\", \"Golden Retriever\")\n",
    "\n",
    "# Access attributes and call methods\n",
    "print(my_dog.name)  # Output: Buddy\n",
    "my_dog.bark()  # Output: Buddy barks!"
   ]
  },
  {
   "cell_type": "code",
   "execution_count": null,
   "id": "6058597a-dfae-40bc-8869-a435b3efaa09",
   "metadata": {},
   "outputs": [],
   "source": []
  },
  {
   "cell_type": "markdown",
   "id": "db04f438",
   "metadata": {},
   "source": [
    "## Inheritance\n",
    "### Inheritance allows you to create new classes (child classes) that inherit attributes and methods from existing classes (parent classes). This promotes code reuse and hierarchical relationships between classes."
   ]
  },
  {
   "cell_type": "code",
   "execution_count": 2,
   "id": "9dcf9e3a",
   "metadata": {},
   "outputs": [
    {
     "name": "stdout",
     "output_type": "stream",
     "text": [
      "Buddy is eating.\n",
      "Buddy barks!\n"
     ]
    }
   ],
   "source": [
    "class Animal:\n",
    "    def __init__(self, name):\n",
    "        self.name = name\n",
    "\n",
    "    def eat(self):\n",
    "        print(f\"{self.name} is eating.\")\n",
    "\n",
    "class Dog(Animal):\n",
    "    def bark(self):\n",
    "        print(f\"{self.name} barks!\")\n",
    "\n",
    "my_dog = Dog(\"Buddy\")\n",
    "my_dog.eat()  # Output: Buddy is eating.\n",
    "my_dog.bark()  # Output: Buddy barks!"
   ]
  },
  {
   "cell_type": "markdown",
   "id": "d76e9927",
   "metadata": {},
   "source": [
    "## Encapsulation\n",
    "### Encapsulation is the practice of hiding the internal implementation details of a class from the outside world. This promotes code modularity and prevents unintended modifications."
   ]
  },
  {
   "cell_type": "code",
   "execution_count": 3,
   "id": "788a14d6",
   "metadata": {},
   "outputs": [],
   "source": [
    "class BankAccount:\n",
    "    def __init__(self, balance):\n",
    "        self.__balance = balance  # Private attribute\n",
    "\n",
    "    def deposit(self, amount):\n",
    "        self.__balance += amount\n",
    "\n",
    "    def withdraw(self, amount):\n",
    "        if self.__balance >= amount:\n",
    "            self.__balance -= amount\n",
    "        else:\n",
    "            print(\"Insufficient funds.\")\n",
    "\n",
    "    def get_balance(self):\n",
    "        return self.__balance"
   ]
  },
  {
   "cell_type": "markdown",
   "id": "99ec9b48",
   "metadata": {},
   "source": [
    "## Practice Exercises\n",
    "\n",
    "### 1. Create a class Person with attributes name, age, and city.\n",
    "### 2. Create a class Car with attributes make, model, and year.\n",
    "### 3. Create a class Circle with attributes radius and methods to calculate area and circumference.\n",
    "### 4. Create a class Rectangle with attributes length and width and methods to calculate area and perimeter.\n",
    "### 5. Create a class Student with attributes name, roll_number, and marks. Implement a method to calculate the average marks.\n",
    "### 6. Create a class Book with attributes title, author, and publication_year.\n",
    "### 7. Create a class Employee with attributes name, salary, and designation.\n",
    "### 8. Create a class Bank with attributes name, account_number, and balance. Implement methods to deposit and withdraw money.\n",
    "### 9. Create a class Shape with a method to calculate area. Create subclasses Circle, Rectangle, and Triangle that inherit from Shape and implement their specific area calculations.\n",
    "### 10. Create a class Animal with attributes name and sound. Create subclasses Dog, Cat, and Cow that inherit from Animal and implement their specific sounds.\n",
    "\n",
    "## Additional Tips\n",
    "### Use meaningful names for classes, attributes, and methods.\n",
    "### Write clear and concise code.\n",
    "### Use comments to explain complex logic.\n",
    "### Test your code thoroughly.\n",
    "### Consider using inheritance to avoid code duplication.\n",
    "### Encapsulate data to protect it from accidental modification.\n",
    "### Use polymorphism to create flexible and adaptable code."
   ]
  },
  {
   "cell_type": "code",
   "execution_count": 3,
   "id": "cae0ab42",
   "metadata": {},
   "outputs": [
    {
     "name": "stdout",
     "output_type": "stream",
     "text": [
      "Mazia\n",
      "20\n",
      "Rajanpur\n"
     ]
    }
   ],
   "source": [
    "#Question 1\n",
    "# Create a class Person with attributes name, age, and city.\n",
    "class person: #class\n",
    "    def __init__(self,name,age,city): #constructor\n",
    "        self.name=name\n",
    "        self.age=age #attributes\n",
    "        self.city=city\n",
    "person_1=person(\"Mazia\",20,\"Rajanpur\") # object\n",
    "print(person_1.name)\n",
    "print(person_1.age) # methods\n",
    "print(person_1.city)"
   ]
  },
  {
   "cell_type": "code",
   "execution_count": 13,
   "id": "0afa003e-cb00-46c8-ab0b-fc18b102ed21",
   "metadata": {},
   "outputs": [
    {
     "name": "stdout",
     "output_type": "stream",
     "text": [
      "Honda\n",
      "City\n",
      "2015\n"
     ]
    }
   ],
   "source": [
    "#Question 2\n",
    "#Create a class Car with attributes make, model, and year.\n",
    "class car:#class\n",
    "    def __init__(self,make,model,year):#constructor\n",
    "        self.make=make\n",
    "        self.model=model #attributes\n",
    "        self.year=year\n",
    "my_car=car(\"Honda\",\"City\",2015)#object\n",
    "print(my_car.make)\n",
    "print(my_car.model)#methods\n",
    "print(my_car.year)"
   ]
  },
  {
   "cell_type": "code",
   "execution_count": 39,
   "id": "966e4cdb-c863-4c7d-a5fa-765a529d2008",
   "metadata": {},
   "outputs": [
    {
     "name": "stdout",
     "output_type": "stream",
     "text": [
      "Area: 78.53981633974483\n",
      "Circumference: 31.41592653589793\n"
     ]
    }
   ],
   "source": [
    "#Question 3\n",
    "# Create a class Circle with attributes radius and methods to calculate area and circumference\n",
    "import math\n",
    "class circle:\n",
    "    def __init__(self, radius):\n",
    "        self.radius = radius\n",
    "    def area(self):\n",
    "        return math.pi * (self.radius ** 2)\n",
    "    def circumference(self):\n",
    "        return 2 * math.pi * self.radius\n",
    "circle = Circle(5)\n",
    "print(\"Area:\", circle.area())  \n",
    "print(\"Circumference:\", circle.circumference())"
   ]
  },
  {
   "cell_type": "code",
   "execution_count": 34,
   "id": "30ddd25e-3745-4348-8960-75d49cd5bcf0",
   "metadata": {},
   "outputs": [
    {
     "name": "stdout",
     "output_type": "stream",
     "text": [
      "Area: 3\n",
      "Perimeter: 8\n"
     ]
    }
   ],
   "source": [
    "# Question 4\n",
    "#Create a class Rectangle with attributes length and width and methods to calculate area and perimeter.\n",
    "import math\n",
    "class Rectangle:\n",
    "    def __init__(self,length,width):\n",
    "        self.length=length\n",
    "        self.width=width\n",
    "    def area(self):\n",
    "        return self.length*self.width\n",
    "    def perimeter(self):\n",
    "        return 2*(self.length+self.width)\n",
    "rectangle=Rectangle(3,1)\n",
    "print(\"Area:\",rectangle.area())\n",
    "print(\"Perimeter:\",rectangle.perimeter())"
   ]
  },
  {
   "cell_type": "code",
   "execution_count": 27,
   "id": "86cd99bd-3436-46c6-b2ca-ea6a0694deb3",
   "metadata": {},
   "outputs": [
    {
     "name": "stdout",
     "output_type": "stream",
     "text": [
      "average: 56.2\n"
     ]
    }
   ],
   "source": [
    "#Question 5\n",
    "#Create a class Student with attributes name, roll_number, and marks. Implement a method to calculate the average marks.\n",
    "class Student:\n",
    "    def __init__(self,name,roll_no,marks):\n",
    "        self.name= name\n",
    "        self.roll_no= roll_no\n",
    "        self.marks=marks\n",
    "    def average(self):\n",
    "        total_marks=sum(self.marks)\n",
    "        no_subjects=len(self.marks)\n",
    "        average_marks=total_marks/no_subjects\n",
    "        return average_marks\n",
    "student_1=Student('Mazia',1234,[23,89,90,12,67])\n",
    "average_marks=student_1.average()\n",
    "print(\"average:\",average_marks)\n"
   ]
  },
  {
   "cell_type": "code",
   "execution_count": 29,
   "id": "807f38fd-f44c-4753-8e61-f56dcb3421f7",
   "metadata": {},
   "outputs": [
    {
     "name": "stdout",
     "output_type": "stream",
     "text": [
      "A silent patient\n",
      "Alex Michealides\n",
      "2019\n"
     ]
    }
   ],
   "source": [
    "#Question 6\n",
    "#Create a class Book with attributes title, author, and publication_year.\n",
    "class Book:\n",
    "    def __init__(self,title,author,publication_year):\n",
    "        self.title=title\n",
    "        self.author=author\n",
    "        self.publication_year=publication_year\n",
    "my_book=Book('A silent patient','Alex Michealides', 2019)\n",
    "print(my_book.title)\n",
    "print(my_book.author)\n",
    "print(my_book.publication_year)\n",
    "    "
   ]
  },
  {
   "cell_type": "code",
   "execution_count": 33,
   "id": "b32b654a-12c9-4f44-8994-67f032776e03",
   "metadata": {},
   "outputs": [
    {
     "name": "stdout",
     "output_type": "stream",
     "text": [
      "Aun Bajji\n",
      "20000\n",
      "belly dancer\n"
     ]
    }
   ],
   "source": [
    "#Question 7\n",
    "#Create a class Employee with attributes name, salary, and designation.\n",
    "class Employee:\n",
    "    def __init__(self,name,salary,designation):\n",
    "        self.name=name\n",
    "        self.salary=salary\n",
    "        self.designation=designation \n",
    "employee_1=Employee('Nick',20000,'Manager')\n",
    "print(employee_1.name)\n",
    "print(employee_1.salary)\n",
    "print(employee_1.designation)"
   ]
  },
  {
   "cell_type": "code",
   "execution_count": 35,
   "id": "794f8c88-e01a-421a-991d-df912aab8d3d",
   "metadata": {},
   "outputs": [],
   "source": [
    "#Question 8\n",
    "#Create a class Bank with attributes name, account_number, and balance. Implement methods to deposit and withdraw money.\n",
    "class Bank:\n",
    "    def __init__(self, name, account_number, balance=0):\n",
    "        self.name = name\n",
    "        self.account_number = account_number\n",
    "        self.balance = balance  # Default balance is 0 if not specified\n",
    "\n",
    "    def deposit(self, amount):\n",
    "        \"\"\"Deposit money into the account.\"\"\"\n",
    "        if amount > 0:\n",
    "            self.balance += amount\n",
    "            print(f\"Deposited {amount}. New balance is {self.balance}.\")\n",
    "        else:\n",
    "            print(\"Deposit amount must be greater than zero.\")\n",
    "\n",
    "    def withdraw(self, amount):\n",
    "        \"\"\"Withdraw money from the account.\"\"\"\n",
    "        if amount > 0:\n",
    "            if amount <= self.balance:\n",
    "                self.balance -= amount\n",
    "                print(f\"Withdrew {amount}. New balance is {self.balance}.\")\n",
    "            else:\n",
    "                print(\"Insufficient funds.\")\n",
    "        else:\n",
    "            print(\"Withdrawal amount must be greater than zero.\")\n",
    "    \n",
    "    def check_balance(self):\n",
    "        \"\"\"Display the current balance.\"\"\"\n",
    "        print(f\"Current balance: {self.balance}\")"
   ]
  },
  {
   "cell_type": "code",
   "execution_count": null,
   "id": "7662bed5-dd5d-45ce-8f7b-f164ae28a3ee",
   "metadata": {},
   "outputs": [],
   "source": []
  }
 ],
 "metadata": {
  "kernelspec": {
   "display_name": "Python 3 (ipykernel)",
   "language": "python",
   "name": "python3"
  },
  "language_info": {
   "codemirror_mode": {
    "name": "ipython",
    "version": 3
   },
   "file_extension": ".py",
   "mimetype": "text/x-python",
   "name": "python",
   "nbconvert_exporter": "python",
   "pygments_lexer": "ipython3",
   "version": "3.12.4"
  }
 },
 "nbformat": 4,
 "nbformat_minor": 5
}
